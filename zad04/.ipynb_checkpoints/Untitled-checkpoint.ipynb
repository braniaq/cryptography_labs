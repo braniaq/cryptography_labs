{
 "cells": [
  {
   "cell_type": "code",
   "execution_count": 26,
   "metadata": {},
   "outputs": [],
   "source": [
    "#zad06\n",
    "#Created by Jakub Branicki on 20/05/2020.\n",
    "\n",
    "#modules\n",
    "import math\n",
    "import random\n",
    "#functions\n",
    "def generate_prime_numbers(range_max,quantity): #standard prime number generating algorithm\n",
    "    iterator =0\n",
    "    k = d = 1 #helper variables for generating 6k+1\n",
    "    p = 2 # first prime\n",
    "    primes = [2,3,5]\n",
    "    while(iterator < range_max):\n",
    "        p = 6*k + d\n",
    "        if (d==1):\n",
    "            d = -1\n",
    "            k += 1\n",
    "        else :\n",
    "            d =1\n",
    "        boundry = math.sqrt(p)\n",
    "        i = 2\n",
    "        while(primes[i]<=boundry):\n",
    "            if p%primes[i] ==0:\n",
    "                break\n",
    "            i+=1\n",
    "        primes.append(p)\n",
    "        iterator+=1\n",
    "    half = int(len(primes)/2)\n",
    "    primes= primes[half:] # so the numbers are bigger\n",
    "    out=random.choices(primes, k= quantity) \n",
    "    return out\n",
    "\n",
    "def generate_relatively_prime_number(range_min, range_max,pair):\n",
    "    out =[]\n",
    "    for i in range(range_max):\n",
    "        if i>=range_min:\n",
    "            ax = i\n",
    "            bx = pair\n",
    "            while(bx != 0):\n",
    "                tmp = bx\n",
    "                bx = ax%bx\n",
    "                ax =tmp\n",
    "            if ax ==1:\n",
    "                out.append(i)\n",
    "            half =int(len(out)/2)\n",
    "            out = out[half:] # so the number is bigger\n",
    "    return random.choice(out)\n",
    "\n",
    "#RSA algorithm\n",
    "rand_primes = generate_prime_numbers(25,2)\n",
    "p = rand_primes[0]\n",
    "q = rand_primes[1]\n",
    "n = p*q\n",
    "phi = (p-1)*(q-1)\n",
    "e = generate_relatively_prime_number(2, phi, phi)\n",
    "for i in range(n): #find d\n",
    "    if ((i*e)%phi == 1):\n",
    "        d=i\n",
    "\n",
    "public_key = [n,e] #not needed\n",
    "private_key = [n,d]\n",
    "\n",
    "#read plain text\n",
    "file = open('newplain.txt')\n",
    "data = file.read()\n",
    "file.close()\n",
    "\n",
    "#encryption\n",
    "cipher=\"\"\n",
    "for c in data:\n",
    "    x = ord(c)**e%n\n",
    "    cipher += chr(x)\n",
    "\n",
    "# write to file\n",
    "file = open('ciphertext.txt', 'wb')\n",
    "file.write(bytes(cipher, encoding= \"utf-16\")) \n",
    "file.close()\n",
    "\n",
    "#read cipher\n",
    "file =open('ciphertext.txt','rb')\n",
    "encrypted_data = file.read()\n",
    "encrypted_data = str(encrypted_data, \"utf-16\")\n",
    "file.close()\n",
    "\n",
    "\n",
    "cipher_list =[]\n",
    "d = {}\n",
    "prob = {}\n",
    "for char in encrypted_data:\n",
    "    cipher_list.append(char) \n",
    "for char in cipher_list:\n",
    "    d[char] = cipher_list.count(char)\n",
    "for char in cipher_list:\n",
    "    prob[char] = cipher_list.count(char)/len(cipher_list)\n",
    "entropy = 0\n",
    "for char in prob:\n",
    "    entropy += prob[char] * math.log2(prob[char])\n",
    "entropy *= -1  #Shannon entropy\n",
    "metric_entropy = entropy/len(encrypted_data)"
   ]
  },
  {
   "cell_type": "code",
   "execution_count": 28,
   "metadata": {},
   "outputs": [
    {
     "data": {
      "text/plain": [
       "4.72854410333066"
      ]
     },
     "execution_count": 28,
     "metadata": {},
     "output_type": "execute_result"
    }
   ],
   "source": [
    "entropy"
   ]
  },
  {
   "cell_type": "code",
   "execution_count": 29,
   "metadata": {},
   "outputs": [
    {
     "data": {
      "text/plain": [
       "0.007589958432312456"
      ]
     },
     "execution_count": 29,
     "metadata": {},
     "output_type": "execute_result"
    }
   ],
   "source": [
    "metric_entropy"
   ]
  },
  {
   "cell_type": "code",
   "execution_count": null,
   "metadata": {},
   "outputs": [],
   "source": []
  }
 ],
 "metadata": {
  "kernelspec": {
   "display_name": "Python 3",
   "language": "python",
   "name": "python3"
  },
  "language_info": {
   "codemirror_mode": {
    "name": "ipython",
    "version": 3
   },
   "file_extension": ".py",
   "mimetype": "text/x-python",
   "name": "python",
   "nbconvert_exporter": "python",
   "pygments_lexer": "ipython3",
   "version": "3.7.4"
  }
 },
 "nbformat": 4,
 "nbformat_minor": 2
}
