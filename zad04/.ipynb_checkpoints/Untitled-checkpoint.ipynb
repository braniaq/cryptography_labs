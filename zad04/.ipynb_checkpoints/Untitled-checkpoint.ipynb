{
 "cells": [
  {
   "cell_type": "code",
   "execution_count": 1,
   "metadata": {},
   "outputs": [],
   "source": [
    "import math\n",
    "import random\n",
    "def generate_prime_numbers(range_max,quantity):\n",
    "    iterator =0\n",
    "    k = d = 1 #helper variables for generating 6k+1\n",
    "    p = 2 # first prime\n",
    "    primes = [2,3,5]\n",
    "    while(iterator < range_max):\n",
    "        p = 6*k + d\n",
    "        if (d==1):\n",
    "            d = -1\n",
    "            k += 1\n",
    "        else :\n",
    "            d =1\n",
    "        boundry = math.sqrt(p)\n",
    "        i = 2\n",
    "        while(primes[i]<=boundry):\n",
    "            if p%primes[i] ==0:\n",
    "                break\n",
    "            i+=1\n",
    "        primes.append(p)\n",
    "        iterator+=1\n",
    "    half = int(len(primes)/2)\n",
    "    primes= primes[half:] # so the numbers are bigger\n",
    "    out=random.choices(primes, k= quantity)\n",
    "    return out"
   ]
  },
  {
   "cell_type": "code",
   "execution_count": 2,
   "metadata": {},
   "outputs": [],
   "source": [
    "rand_primes = generate_prime_numbers(5,2)\n",
    "p = rand_primes[0]\n",
    "q = rand_primes[1]\n",
    "n = p*q\n",
    "phi = (p-1)*(q-1)\n",
    "def generate_relatively_prime_number(range_min, range_max,pair):\n",
    "    out =[]\n",
    "    for i in range(range_max):\n",
    "        if i>=range_min:\n",
    "            ax = i\n",
    "            bx = pair\n",
    "            while(bx != 0):\n",
    "                tmp = bx\n",
    "                bx = ax%bx\n",
    "                ax =tmp\n",
    "            if ax ==1:\n",
    "                out.append(i)\n",
    "            half =int(len(out)/2)\n",
    "            out = out[half:]\n",
    "    return random.choice(out)"
   ]
  },
  {
   "cell_type": "code",
   "execution_count": 19,
   "metadata": {},
   "outputs": [
    {
     "name": "stdout",
     "output_type": "stream",
     "text": [
      "0\n",
      "159\n",
      "318\n",
      "477\n",
      "636\n",
      "795\n",
      "954\n",
      "1113\n",
      "1272\n",
      "1431\n",
      "1590\n",
      "1749\n",
      "1908\n",
      "2067\n",
      "2226\n",
      "2385\n",
      "2544\n",
      "2703\n",
      "2862\n",
      "3021\n",
      "3180\n",
      "3339\n",
      "3498\n",
      "3657\n",
      "3816\n",
      "3975\n",
      "4134\n",
      "4293\n",
      "4452\n",
      "4611\n",
      "4770\n",
      "4929\n",
      "5088\n",
      "5247\n",
      "5406\n",
      "5565\n",
      "5724\n",
      "5883\n",
      "6042\n",
      "6201\n",
      "6360\n",
      "6519\n",
      "6678\n",
      "6837\n",
      "6996\n",
      "7155\n",
      "7314\n",
      "7473\n",
      "7632\n",
      "7791\n",
      "7950\n",
      "8109\n",
      "8268\n",
      "8427\n",
      "8586\n",
      "8745\n",
      "8904\n",
      "9063\n",
      "9222\n",
      "9381\n",
      "9540\n",
      "9699\n",
      "9858\n",
      "10017\n",
      "10176\n",
      "10335\n",
      "10494\n",
      "10653\n",
      "10812\n",
      "10971\n",
      "11130\n",
      "11289\n",
      "11448\n",
      "11607\n",
      "11766\n",
      "11925\n",
      "12084\n",
      "12243\n",
      "12402\n",
      "12561\n",
      "12720\n",
      "12879\n",
      "13038\n",
      "13197\n",
      "13356\n",
      "13515\n",
      "13674\n",
      "13833\n",
      "13992\n",
      "14151\n",
      "14310\n",
      "14469\n",
      "14628\n",
      "14787\n",
      "14946\n",
      "15105\n",
      "15264\n",
      "15423\n",
      "15582\n",
      "15741\n",
      "15900\n",
      "16059\n",
      "16218\n",
      "16377\n",
      "16536\n",
      "16695\n",
      "16854\n",
      "17013\n",
      "17172\n",
      "17331\n",
      "17490\n",
      "17649\n",
      "17808\n",
      "17967\n",
      "18126\n",
      "18285\n",
      "18444\n",
      "18603\n",
      "18762\n",
      "18921\n",
      "19080\n",
      "19239\n",
      "19398\n",
      "19557\n",
      "19716\n",
      "19875\n",
      "20034\n",
      "20193\n",
      "20352\n",
      "20511\n",
      "20670\n",
      "20829\n",
      "20988\n",
      "21147\n",
      "21306\n",
      "21465\n",
      "21624\n",
      "21783\n",
      "21942\n",
      "22101\n",
      "22260\n",
      "22419\n",
      "22578\n",
      "22737\n",
      "22896\n",
      "23055\n",
      "23214\n",
      "23373\n",
      "23532\n",
      "23691\n",
      "23850\n",
      "24009\n",
      "24168\n",
      "24327\n",
      "24486\n",
      "24645\n",
      "24804\n",
      "24963\n",
      "25122\n",
      "25281\n",
      "159\n",
      "25440\n",
      "25599\n",
      "25758\n",
      "25917\n",
      "26076\n",
      "26235\n",
      "26394\n",
      "26553\n",
      "26712\n",
      "26871\n",
      "27030\n",
      "27189\n",
      "27348\n",
      "27507\n",
      "27666\n",
      "27825\n",
      "27984\n",
      "28143\n",
      "28302\n",
      "28461\n",
      "28620\n",
      "28779\n",
      "28938\n",
      "29097\n",
      "29256\n",
      "29415\n",
      "29574\n"
     ]
    }
   ],
   "source": [
    "e = generate_relatively_prime_number(2, phi, phi)\n",
    "for i in range(n):\n",
    "    print(i*e)\n",
    "    if ((i*e)%phi == 1):\n",
    "        d=i\n",
    "        print(d)\n",
    "public_key = [n,e]\n",
    "private_key = [n,d]\n",
    "x = 58**e%n\n",
    "mes = x**d%n"
   ]
  },
  {
   "cell_type": "code",
   "execution_count": 20,
   "metadata": {},
   "outputs": [
    {
     "data": {
      "text/plain": [
       "159"
      ]
     },
     "execution_count": 20,
     "metadata": {},
     "output_type": "execute_result"
    }
   ],
   "source": [
    "d"
   ]
  },
  {
   "cell_type": "code",
   "execution_count": 21,
   "metadata": {},
   "outputs": [
    {
     "data": {
      "text/plain": [
       "[187, 159]"
      ]
     },
     "execution_count": 21,
     "metadata": {},
     "output_type": "execute_result"
    }
   ],
   "source": [
    "public_key"
   ]
  },
  {
   "cell_type": "code",
   "execution_count": 22,
   "metadata": {},
   "outputs": [
    {
     "data": {
      "text/plain": [
       "17"
      ]
     },
     "execution_count": 22,
     "metadata": {},
     "output_type": "execute_result"
    }
   ],
   "source": [
    "p"
   ]
  },
  {
   "cell_type": "code",
   "execution_count": 23,
   "metadata": {},
   "outputs": [
    {
     "data": {
      "text/plain": [
       "11"
      ]
     },
     "execution_count": 23,
     "metadata": {},
     "output_type": "execute_result"
    }
   ],
   "source": [
    "q"
   ]
  },
  {
   "cell_type": "code",
   "execution_count": 24,
   "metadata": {},
   "outputs": [
    {
     "data": {
      "text/plain": [
       "159"
      ]
     },
     "execution_count": 24,
     "metadata": {},
     "output_type": "execute_result"
    }
   ],
   "source": [
    "d"
   ]
  },
  {
   "cell_type": "code",
   "execution_count": 25,
   "metadata": {},
   "outputs": [
    {
     "data": {
      "text/plain": [
       "160"
      ]
     },
     "execution_count": 25,
     "metadata": {},
     "output_type": "execute_result"
    }
   ],
   "source": [
    "phi"
   ]
  },
  {
   "cell_type": "code",
   "execution_count": 26,
   "metadata": {},
   "outputs": [
    {
     "data": {
      "text/plain": [
       "159"
      ]
     },
     "execution_count": 26,
     "metadata": {},
     "output_type": "execute_result"
    }
   ],
   "source": [
    "e"
   ]
  },
  {
   "cell_type": "markdown",
   "metadata": {},
   "source": []
  }
 ],
 "metadata": {
  "kernelspec": {
   "display_name": "Python 3",
   "language": "python",
   "name": "python3"
  },
  "language_info": {
   "codemirror_mode": {
    "name": "ipython",
    "version": 3
   },
   "file_extension": ".py",
   "mimetype": "text/x-python",
   "name": "python",
   "nbconvert_exporter": "python",
   "pygments_lexer": "ipython3",
   "version": "3.7.4"
  }
 },
 "nbformat": 4,
 "nbformat_minor": 2
}
